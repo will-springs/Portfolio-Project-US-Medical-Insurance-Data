{
 "cells": [
  {
   "cell_type": "markdown",
   "metadata": {},
   "source": [
    "# U.S. Medical Insurance Costs"
   ]
  },
  {
   "cell_type": "markdown",
   "metadata": {},
   "source": [
    "## Introduction and Disclaimer\n",
    "\n",
    "This project is right at the end of Codecademy's Data Science Fundamentals I course. It's after learners have practiced Python lists, loops, functions, dictionaries, and file methods; but before they are exposed to the scipy, numpy, and pandas libraries.\n",
    "\n",
    "What I discovered during this project is I don't yet have full proficiency using Python dictionaries and file methods. I thrashed around trying to figure out how to best load the `'insurance.csv'` file provided. I finally asked ChatGPT for help, and 'Assistant' prompted me to use the Python `list()` method to turn my `csv.DictReader.obj` into a list of 1338 dictionaries!"
   ]
  },
  {
   "cell_type": "code",
   "execution_count": 1,
   "metadata": {},
   "outputs": [],
   "source": [
    "import csv\n",
    "with open('insurance.csv', newline='') as csvfile:\n",
    "    med_data = csv.DictReader(csvfile)\n",
    "#     med_data_list = list(med_data)\n",
    "#     for row in med_data:\n",
    "#         print(row['first_name'], row['last_name'])"
   ]
  },
  {
   "cell_type": "code",
   "execution_count": 2,
   "metadata": {},
   "outputs": [
    {
     "name": "stdout",
     "output_type": "stream",
     "text": [
      "<csv.DictReader object at 0x0000029AC0897400>\n"
     ]
    }
   ],
   "source": [
    "print(med_data)"
   ]
  },
  {
   "cell_type": "code",
   "execution_count": 3,
   "metadata": {},
   "outputs": [
    {
     "name": "stdout",
     "output_type": "stream",
     "text": [
      "[{'age': '19', 'sex': 'female', 'bmi': '27.9', 'children': '0', 'smoker': 'yes', 'region': 'southwest', 'charges': '16884.924'}, {'age': '18', 'sex': 'male', 'bmi': '33.77', 'children': '1', 'smoker': 'no', 'region': 'southeast', 'charges': '1725.5523'}, {'age': '28', 'sex': 'male', 'bmi': '33', 'children': '3', 'smoker': 'no', 'region': 'southeast', 'charges': '4449.462'}]\n"
     ]
    }
   ],
   "source": [
    "import csv\n",
    "\n",
    "with open('insurance.csv', newline='') as csvfile:\n",
    "    insurance_data = csv.DictReader(csvfile)\n",
    "    med_data = list(insurance_data)\n",
    "\n",
    "# Now med_data is a list of dictionaries, where each dictionary represents a row from the CSV file\n",
    "print(med_data[0:3])"
   ]
  },
  {
   "cell_type": "code",
   "execution_count": 4,
   "metadata": {},
   "outputs": [
    {
     "data": {
      "text/plain": [
       "1338"
      ]
     },
     "execution_count": 4,
     "metadata": {},
     "output_type": "execute_result"
    }
   ],
   "source": [
    "len(med_data)"
   ]
  },
  {
   "cell_type": "code",
   "execution_count": 5,
   "metadata": {},
   "outputs": [],
   "source": [
    "age_list = []\n",
    "for record in range(len(med_data)):\n",
    "    age_list.append(med_data[record]['age'])"
   ]
  },
  {
   "cell_type": "code",
   "execution_count": 6,
   "metadata": {},
   "outputs": [],
   "source": [
    "sex_list = []\n",
    "for record in range(len(med_data)):\n",
    "    sex_list.append(med_data[record]['sex'])"
   ]
  },
  {
   "cell_type": "code",
   "execution_count": 7,
   "metadata": {},
   "outputs": [],
   "source": [
    "bmi_list = []\n",
    "for record in range(len(med_data)):\n",
    "    bmi_list.append(med_data[record]['bmi'])"
   ]
  },
  {
   "cell_type": "code",
   "execution_count": 8,
   "metadata": {},
   "outputs": [],
   "source": [
    "children_list = []\n",
    "for record in range(len(med_data)):\n",
    "    children_list.append(med_data[record]['children'])"
   ]
  },
  {
   "cell_type": "code",
   "execution_count": 9,
   "metadata": {},
   "outputs": [],
   "source": [
    "smoker_list = []\n",
    "for record in range(len(med_data)):\n",
    "    smoker_list.append(med_data[record]['smoker'])"
   ]
  },
  {
   "cell_type": "code",
   "execution_count": 10,
   "metadata": {},
   "outputs": [],
   "source": [
    "region_list = []\n",
    "for record in range(len(med_data)):\n",
    "    region_list.append(med_data[record]['region'])"
   ]
  },
  {
   "cell_type": "code",
   "execution_count": 11,
   "metadata": {},
   "outputs": [],
   "source": [
    "charges_list = []\n",
    "for record in range(len(med_data)):\n",
    "    charges_list.append(med_data[record]['charges'])"
   ]
  },
  {
   "cell_type": "code",
   "execution_count": 12,
   "metadata": {},
   "outputs": [
    {
     "name": "stdout",
     "output_type": "stream",
     "text": [
      "['30.8', '34.8', '24.64', '33.88', '38.06', '41.91', '31.635', '25.46']\n"
     ]
    }
   ],
   "source": [
    "# Just a quick check on one of these lists to make sure the output looks as expected.\n",
    "print(bmi_list[222:230])"
   ]
  },
  {
   "cell_type": "code",
   "execution_count": 13,
   "metadata": {},
   "outputs": [
    {
     "name": "stdout",
     "output_type": "stream",
     "text": [
      "30.66\n"
     ]
    }
   ],
   "source": [
    "# Statistic #1: Average BMI\n",
    "total_bmi = 0\n",
    "for i in range(len(bmi_list)):\n",
    "    total_bmi += float(bmi_list[i])\n",
    "average_bmi = round(total_bmi / len(bmi_list), 2)\n",
    "print(average_bmi)"
   ]
  },
  {
   "cell_type": "code",
   "execution_count": 14,
   "metadata": {},
   "outputs": [
    {
     "name": "stdout",
     "output_type": "stream",
     "text": [
      "676 662 1338 1.02\n"
     ]
    }
   ],
   "source": [
    "# Statistic #2: Male/Female Ratio in Sample\n",
    "males = 0\n",
    "females = 0\n",
    "for i in range(len(sex_list)):\n",
    "    if sex_list[i] == 'male':\n",
    "        males += 1\n",
    "    else:\n",
    "        females += 1\n",
    "ratio = round(males / females, 2)\n",
    "print(males, females, males + females, ratio)"
   ]
  },
  {
   "cell_type": "code",
   "execution_count": 15,
   "metadata": {},
   "outputs": [
    {
     "name": "stdout",
     "output_type": "stream",
     "text": [
      "30.94\n",
      "30.38\n"
     ]
    }
   ],
   "source": [
    "# Statistic #3: Average BMI for males, average BMI for females\n",
    "male_bmi_list = []\n",
    "female_bmi_list = []\n",
    "\n",
    "for i in range(len(med_data)):\n",
    "    if med_data[i]['sex'] == 'male':\n",
    "        male_bmi_list.append(med_data[i]['bmi'])\n",
    "    else:\n",
    "        female_bmi_list.append(med_data[i]['bmi'])\n",
    "\n",
    "# Now for each sex, perform Statistic #1. Here is a function:\n",
    "def average_bmi(bmi_list):\n",
    "    total_bmi = 0\n",
    "    for i in range(len(bmi_list)):\n",
    "        total_bmi += float(bmi_list[i])\n",
    "    average_bmi = round(total_bmi / len(bmi_list), 2)\n",
    "    return average_bmi\n",
    "\n",
    "# For males in the sample:\n",
    "print(average_bmi(male_bmi_list))\n",
    "\n",
    "# For females in the sample:\n",
    "print(average_bmi(female_bmi_list))"
   ]
  },
  {
   "cell_type": "code",
   "execution_count": 16,
   "metadata": {},
   "outputs": [
    {
     "name": "stdout",
     "output_type": "stream",
     "text": [
      "38.92\n",
      "39.5\n"
     ]
    }
   ],
   "source": [
    "# Statistic #4: Average age for males, average age for females\n",
    "male_age_list = []\n",
    "female_age_list = []\n",
    "\n",
    "for i in range(len(med_data)):\n",
    "    if med_data[i]['sex'] == 'male':\n",
    "        male_age_list.append(med_data[i]['age'])\n",
    "    else:\n",
    "        female_age_list.append(med_data[i]['age'])\n",
    "\n",
    "# Now for each sex, perform Statistic #1. Here is a function:\n",
    "def average_age(age_list):\n",
    "    total_age = 0\n",
    "    for i in range(len(age_list)):\n",
    "        total_age += float(age_list[i])\n",
    "    average_age = round(total_age / len(age_list), 2)\n",
    "    return average_age\n",
    "\n",
    "# For males in the sample:\n",
    "print(average_age(male_age_list))\n",
    "\n",
    "# For females in the sample:\n",
    "print(average_age(female_age_list))"
   ]
  },
  {
   "cell_type": "code",
   "execution_count": 17,
   "metadata": {},
   "outputs": [
    {
     "name": "stdout",
     "output_type": "stream",
     "text": [
      "30.71\n",
      "30.65\n"
     ]
    }
   ],
   "source": [
    "# Statistic #5: Smoker BMI vs. Non-smoker BMI\n",
    "smoker_bmi_list = []\n",
    "nonsmoker_bmi_list = []\n",
    "\n",
    "for i in range(len(med_data)):\n",
    "    if med_data[i]['smoker'] == 'yes':\n",
    "        smoker_bmi_list.append(med_data[i]['bmi'])\n",
    "    else:\n",
    "        nonsmoker_bmi_list.append(med_data[i]['bmi'])\n",
    "\n",
    "# Now for each category (smoker vs. non-smoker), perform Statistic #1. Here is a function:\n",
    "def smoker_bmi(bmi_list):\n",
    "    total_bmi = 0\n",
    "    for i in range(len(bmi_list)):\n",
    "        total_bmi += float(bmi_list[i])\n",
    "    average_bmi = round(total_bmi / len(bmi_list), 2)\n",
    "    return average_bmi\n",
    "\n",
    "# For smokers in the sample:\n",
    "print(smoker_bmi(smoker_bmi_list))\n",
    "\n",
    "# For non-smokers in the sample:\n",
    "print(smoker_bmi(nonsmoker_bmi_list))"
   ]
  },
  {
   "cell_type": "markdown",
   "metadata": {},
   "source": [
    "__Statistically insignificant difference in BMI for smokers vs. non-smokers!__"
   ]
  },
  {
   "cell_type": "markdown",
   "metadata": {},
   "source": [
    "## Conclusion\n",
    "\n",
    "This is a pretty useful cleaned dataset, and I plan to return to it in the future to practice more coding techniques. Here are a few ideas for future projects:\n",
    "\n",
    "1. Matplotlib and Seaborn visualizations\n",
    "2. Smokers pay higher charges, but what other factors influence charges?\n",
    "3. Which region is the healthiest? (based on BMI and percent smokers)"
   ]
  },
  {
   "cell_type": "code",
   "execution_count": null,
   "metadata": {},
   "outputs": [],
   "source": []
  }
 ],
 "metadata": {
  "kernelspec": {
   "display_name": "Python 3 (ipykernel)",
   "language": "python",
   "name": "python3"
  },
  "language_info": {
   "codemirror_mode": {
    "name": "ipython",
    "version": 3
   },
   "file_extension": ".py",
   "mimetype": "text/x-python",
   "name": "python",
   "nbconvert_exporter": "python",
   "pygments_lexer": "ipython3",
   "version": "3.10.9"
  }
 },
 "nbformat": 4,
 "nbformat_minor": 4
}
